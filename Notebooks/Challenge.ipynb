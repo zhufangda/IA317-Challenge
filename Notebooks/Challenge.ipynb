{
 "cells": [
  {
   "cell_type": "markdown",
   "metadata": {
    "toc": true
   },
   "source": [
    "<h1>Table of Contents<span class=\"tocSkip\"></span></h1>\n",
    "<div class=\"toc\"><ul class=\"toc-item\"><li><span><a href=\"#Import-Package\" data-toc-modified-id=\"Import-Package-1\"><span class=\"toc-item-num\">1&nbsp;&nbsp;</span>Import Package</a></span></li><li><span><a href=\"#Data-clean\" data-toc-modified-id=\"Data-clean-2\"><span class=\"toc-item-num\">2&nbsp;&nbsp;</span>Data clean</a></span><ul class=\"toc-item\"><li><span><a href=\"#Did\" data-toc-modified-id=\"Did-2.1\"><span class=\"toc-item-num\">2.1&nbsp;&nbsp;</span>Did</a></span></li><li><span><a href=\"#Processing-for-data\" data-toc-modified-id=\"Processing-for-data-2.2\"><span class=\"toc-item-num\">2.2&nbsp;&nbsp;</span>Processing for data</a></span></li></ul></li></ul></div>"
   ]
  },
  {
   "cell_type": "markdown",
   "metadata": {},
   "source": [
    "TP Data Challenge for IA317"
   ]
  },
  {
   "cell_type": "markdown",
   "metadata": {},
   "source": [
    "# Import Package"
   ]
  },
  {
   "cell_type": "code",
   "execution_count": 6,
   "metadata": {
    "ExecuteTime": {
     "end_time": "2018-11-04T14:30:32.501597Z",
     "start_time": "2018-11-04T14:30:32.497615Z"
    }
   },
   "outputs": [],
   "source": [
    "import pandas as pd\n",
    "import numpy as n"
   ]
  },
  {
   "cell_type": "markdown",
   "metadata": {},
   "source": [
    "# Data clean"
   ]
  },
  {
   "cell_type": "code",
   "execution_count": 25,
   "metadata": {
    "ExecuteTime": {
     "end_time": "2018-11-04T14:46:20.409682Z",
     "start_time": "2018-11-04T14:46:20.310944Z"
    }
   },
   "outputs": [
    {
     "data": {
      "text/html": [
       "<div>\n",
       "<style scoped>\n",
       "    .dataframe tbody tr th:only-of-type {\n",
       "        vertical-align: middle;\n",
       "    }\n",
       "\n",
       "    .dataframe tbody tr th {\n",
       "        vertical-align: top;\n",
       "    }\n",
       "\n",
       "    .dataframe thead th {\n",
       "        text-align: right;\n",
       "    }\n",
       "</style>\n",
       "<table border=\"1\" class=\"dataframe\">\n",
       "  <thead>\n",
       "    <tr style=\"text-align: right;\">\n",
       "      <th></th>\n",
       "      <th>messageid</th>\n",
       "      <th>latitude</th>\n",
       "      <th>longitude</th>\n",
       "      <th>did</th>\n",
       "      <th>did_hex</th>\n",
       "      <th>time_msg</th>\n",
       "      <th>time_ux</th>\n",
       "      <th>time_ux_client</th>\n",
       "      <th>motion</th>\n",
       "      <th>speed</th>\n",
       "      <th>...</th>\n",
       "      <th>radius</th>\n",
       "      <th>datepart</th>\n",
       "      <th>seqnumber</th>\n",
       "      <th>dtid</th>\n",
       "      <th>nseq</th>\n",
       "      <th>rssi</th>\n",
       "      <th>bsid_hex</th>\n",
       "      <th>bsid</th>\n",
       "      <th>snr</th>\n",
       "      <th>freq</th>\n",
       "    </tr>\n",
       "  </thead>\n",
       "  <tbody>\n",
       "    <tr>\n",
       "      <th>0</th>\n",
       "      <td>5a4b36a612f1431c0bbcfe5a</td>\n",
       "      <td>49.150979</td>\n",
       "      <td>2.584248</td>\n",
       "      <td>2158065</td>\n",
       "      <td>20EDF1</td>\n",
       "      <td>2018-01-02 07:37:10</td>\n",
       "      <td>1514878630000</td>\n",
       "      <td>1514878240000</td>\n",
       "      <td>t</td>\n",
       "      <td>127.0</td>\n",
       "      <td>...</td>\n",
       "      <td>NaN</td>\n",
       "      <td>2018-01-02</td>\n",
       "      <td>536</td>\n",
       "      <td>5491a93b9336908c3b1b4c70</td>\n",
       "      <td>0</td>\n",
       "      <td>-139</td>\n",
       "      <td>F4B</td>\n",
       "      <td>3915</td>\n",
       "      <td>11.740000</td>\n",
       "      <td>868136469.0</td>\n",
       "    </tr>\n",
       "    <tr>\n",
       "      <th>1</th>\n",
       "      <td>5a4b36a612f1431c0bbcfe5a</td>\n",
       "      <td>49.150979</td>\n",
       "      <td>2.584248</td>\n",
       "      <td>2158065</td>\n",
       "      <td>20EDF1</td>\n",
       "      <td>2018-01-02 07:37:10</td>\n",
       "      <td>1514878630000</td>\n",
       "      <td>1514878240000</td>\n",
       "      <td>t</td>\n",
       "      <td>127.0</td>\n",
       "      <td>...</td>\n",
       "      <td>NaN</td>\n",
       "      <td>2018-01-02</td>\n",
       "      <td>536</td>\n",
       "      <td>5491a93b9336908c3b1b4c70</td>\n",
       "      <td>0</td>\n",
       "      <td>-137</td>\n",
       "      <td>33B8</td>\n",
       "      <td>13240</td>\n",
       "      <td>13.980000</td>\n",
       "      <td>868137053.0</td>\n",
       "    </tr>\n",
       "    <tr>\n",
       "      <th>2</th>\n",
       "      <td>5a4b36a612f1431c0bbcfe5a</td>\n",
       "      <td>49.150979</td>\n",
       "      <td>2.584248</td>\n",
       "      <td>2158065</td>\n",
       "      <td>20EDF1</td>\n",
       "      <td>2018-01-02 07:37:10</td>\n",
       "      <td>1514878630000</td>\n",
       "      <td>1514878240000</td>\n",
       "      <td>t</td>\n",
       "      <td>127.0</td>\n",
       "      <td>...</td>\n",
       "      <td>NaN</td>\n",
       "      <td>2018-01-02</td>\n",
       "      <td>536</td>\n",
       "      <td>5491a93b9336908c3b1b4c70</td>\n",
       "      <td>0</td>\n",
       "      <td>-125</td>\n",
       "      <td>33C1</td>\n",
       "      <td>13249</td>\n",
       "      <td>26.580000</td>\n",
       "      <td>868136944.0</td>\n",
       "    </tr>\n",
       "    <tr>\n",
       "      <th>3</th>\n",
       "      <td>5a4b370f12f1431c0bbda371</td>\n",
       "      <td>49.368966</td>\n",
       "      <td>2.647366</td>\n",
       "      <td>5140063</td>\n",
       "      <td>4E6E5F</td>\n",
       "      <td>2018-01-02 07:38:55</td>\n",
       "      <td>1514878735000</td>\n",
       "      <td>1514878300000</td>\n",
       "      <td>f</td>\n",
       "      <td>0.0</td>\n",
       "      <td>...</td>\n",
       "      <td>NaN</td>\n",
       "      <td>2018-01-02</td>\n",
       "      <td>3581</td>\n",
       "      <td>5491a93b9336908c3b1b4c70</td>\n",
       "      <td>0</td>\n",
       "      <td>-139</td>\n",
       "      <td>2AE9</td>\n",
       "      <td>10985</td>\n",
       "      <td>12.210000</td>\n",
       "      <td>868109404.0</td>\n",
       "    </tr>\n",
       "    <tr>\n",
       "      <th>4</th>\n",
       "      <td>5a4b3958e541cd714dedf24b</td>\n",
       "      <td>49.244820</td>\n",
       "      <td>3.094714</td>\n",
       "      <td>2154347</td>\n",
       "      <td>20DF6B</td>\n",
       "      <td>2018-01-02 07:48:40</td>\n",
       "      <td>1514879320000</td>\n",
       "      <td>1514879320000</td>\n",
       "      <td>f</td>\n",
       "      <td>0.0</td>\n",
       "      <td>...</td>\n",
       "      <td>NaN</td>\n",
       "      <td>2018-01-02</td>\n",
       "      <td>3922</td>\n",
       "      <td>5491a93b9336908c3b1b4c70</td>\n",
       "      <td>0</td>\n",
       "      <td>-100</td>\n",
       "      <td>461</td>\n",
       "      <td>1121</td>\n",
       "      <td>51.560001</td>\n",
       "      <td>868188574.0</td>\n",
       "    </tr>\n",
       "  </tbody>\n",
       "</table>\n",
       "<p>5 rows × 23 columns</p>\n",
       "</div>"
      ],
      "text/plain": [
       "                  messageid   latitude  longitude      did did_hex  \\\n",
       "0  5a4b36a612f1431c0bbcfe5a  49.150979   2.584248  2158065  20EDF1   \n",
       "1  5a4b36a612f1431c0bbcfe5a  49.150979   2.584248  2158065  20EDF1   \n",
       "2  5a4b36a612f1431c0bbcfe5a  49.150979   2.584248  2158065  20EDF1   \n",
       "3  5a4b370f12f1431c0bbda371  49.368966   2.647366  5140063  4E6E5F   \n",
       "4  5a4b3958e541cd714dedf24b  49.244820   3.094714  2154347  20DF6B   \n",
       "\n",
       "              time_msg        time_ux  time_ux_client motion  speed  \\\n",
       "0  2018-01-02 07:37:10  1514878630000   1514878240000      t  127.0   \n",
       "1  2018-01-02 07:37:10  1514878630000   1514878240000      t  127.0   \n",
       "2  2018-01-02 07:37:10  1514878630000   1514878240000      t  127.0   \n",
       "3  2018-01-02 07:38:55  1514878735000   1514878300000      f    0.0   \n",
       "4  2018-01-02 07:48:40  1514879320000   1514879320000      f    0.0   \n",
       "\n",
       "      ...       radius    datepart seqnumber                      dtid nseq  \\\n",
       "0     ...          NaN  2018-01-02       536  5491a93b9336908c3b1b4c70    0   \n",
       "1     ...          NaN  2018-01-02       536  5491a93b9336908c3b1b4c70    0   \n",
       "2     ...          NaN  2018-01-02       536  5491a93b9336908c3b1b4c70    0   \n",
       "3     ...          NaN  2018-01-02      3581  5491a93b9336908c3b1b4c70    0   \n",
       "4     ...          NaN  2018-01-02      3922  5491a93b9336908c3b1b4c70    0   \n",
       "\n",
       "   rssi bsid_hex   bsid        snr         freq  \n",
       "0  -139      F4B   3915  11.740000  868136469.0  \n",
       "1  -137     33B8  13240  13.980000  868137053.0  \n",
       "2  -125     33C1  13249  26.580000  868136944.0  \n",
       "3  -139     2AE9  10985  12.210000  868109404.0  \n",
       "4  -100      461   1121  51.560001  868188574.0  \n",
       "\n",
       "[5 rows x 23 columns]"
      ]
     },
     "execution_count": 25,
     "metadata": {},
     "output_type": "execute_result"
    }
   ],
   "source": [
    "df = pd.read_csv('../Data/Toy/db_toy.csv', \n",
    "                                sep=';',\n",
    "                               dtype={'freq': np.float64})\n",
    "df.head()"
   ]
  },
  {
   "cell_type": "code",
   "execution_count": 26,
   "metadata": {
    "ExecuteTime": {
     "end_time": "2018-11-04T14:46:20.599209Z",
     "start_time": "2018-11-04T14:46:20.595184Z"
    }
   },
   "outputs": [],
   "source": [
    "# TODO 频率有问题"
   ]
  },
  {
   "cell_type": "markdown",
   "metadata": {},
   "source": [
    "## Did"
   ]
  },
  {
   "cell_type": "markdown",
   "metadata": {
    "ExecuteTime": {
     "end_time": "2018-11-04T14:44:27.178020Z",
     "start_time": "2018-11-04T14:44:27.173034Z"
    }
   },
   "source": [
    "1. did 设备id与经纬度的相关性, 如果测试集与训练集没有重合的did，那么did就没有用处\n",
    "2. 删除 did_hex"
   ]
  },
  {
   "cell_type": "code",
   "execution_count": 27,
   "metadata": {
    "ExecuteTime": {
     "end_time": "2018-11-04T14:46:21.830916Z",
     "start_time": "2018-11-04T14:46:21.825894Z"
    }
   },
   "outputs": [],
   "source": [
    "del df['did_hex']"
   ]
  },
  {
   "cell_type": "code",
   "execution_count": 15,
   "metadata": {
    "ExecuteTime": {
     "end_time": "2018-11-04T14:39:46.961454Z",
     "start_time": "2018-11-04T14:39:46.781923Z"
    }
   },
   "outputs": [
    {
     "name": "stdout",
     "output_type": "stream",
     "text": [
      "5177\n"
     ]
    },
    {
     "data": {
      "text/plain": [
       "messageid         2680\n",
       "latitude          2301\n",
       "longitude         2141\n",
       "did                318\n",
       "did_hex            318\n",
       "time_msg          2674\n",
       "time_ux           2674\n",
       "time_ux_client    2673\n",
       "motion               3\n",
       "speed              147\n",
       "altitude             1\n",
       "nb_satellites        1\n",
       "data_type            1\n",
       "radius               2\n",
       "datepart             9\n",
       "seqnumber         1869\n",
       "dtid                 2\n",
       "nseq                 3\n",
       "rssi                83\n",
       "bsid_hex            12\n",
       "bsid                12\n",
       "snr               3101\n",
       "freq              5097\n",
       "dtype: int64"
      ]
     },
     "execution_count": 15,
     "metadata": {},
     "output_type": "execute_result"
    }
   ],
   "source": [
    "toy_distinct_velue = toy_df.apply(lambda x: len(x.unique()))\n",
    "print(len(toy_df))\n",
    "toy_distinct_velue"
   ]
  },
  {
   "cell_type": "markdown",
   "metadata": {},
   "source": [
    "## Processing for data"
   ]
  },
  {
   "cell_type": "code",
   "execution_count": 37,
   "metadata": {
    "ExecuteTime": {
     "end_time": "2018-11-04T14:57:55.207453Z",
     "start_time": "2018-11-04T14:57:55.200437Z"
    }
   },
   "outputs": [],
   "source": [
    "df.time_msg = pd.to_datetime(df.time_msg)\n",
    "df.time_ux = pd.to_datetime(df.time_ux, unit='ms')\n",
    "df.time_ux_client = pd.to_datetime(df.time_ux_client, unit='ms')"
   ]
  },
  {
   "cell_type": "code",
   "execution_count": 41,
   "metadata": {
    "ExecuteTime": {
     "end_time": "2018-11-04T14:59:31.369566Z",
     "start_time": "2018-11-04T14:59:31.359569Z"
    }
   },
   "outputs": [
    {
     "data": {
      "text/html": [
       "<div>\n",
       "<style scoped>\n",
       "    .dataframe tbody tr th:only-of-type {\n",
       "        vertical-align: middle;\n",
       "    }\n",
       "\n",
       "    .dataframe tbody tr th {\n",
       "        vertical-align: top;\n",
       "    }\n",
       "\n",
       "    .dataframe thead th {\n",
       "        text-align: right;\n",
       "    }\n",
       "</style>\n",
       "<table border=\"1\" class=\"dataframe\">\n",
       "  <thead>\n",
       "    <tr style=\"text-align: right;\">\n",
       "      <th></th>\n",
       "      <th>time_ux_client</th>\n",
       "      <th>time_msg</th>\n",
       "      <th>time_ux</th>\n",
       "    </tr>\n",
       "  </thead>\n",
       "  <tbody>\n",
       "    <tr>\n",
       "      <th>0</th>\n",
       "      <td>2018-01-02 07:30:40</td>\n",
       "      <td>2018-01-02 07:37:10</td>\n",
       "      <td>2018-01-02 07:37:10</td>\n",
       "    </tr>\n",
       "    <tr>\n",
       "      <th>1</th>\n",
       "      <td>2018-01-02 07:30:40</td>\n",
       "      <td>2018-01-02 07:37:10</td>\n",
       "      <td>2018-01-02 07:37:10</td>\n",
       "    </tr>\n",
       "    <tr>\n",
       "      <th>2</th>\n",
       "      <td>2018-01-02 07:30:40</td>\n",
       "      <td>2018-01-02 07:37:10</td>\n",
       "      <td>2018-01-02 07:37:10</td>\n",
       "    </tr>\n",
       "    <tr>\n",
       "      <th>3</th>\n",
       "      <td>2018-01-02 07:31:40</td>\n",
       "      <td>2018-01-02 07:38:55</td>\n",
       "      <td>2018-01-02 07:38:55</td>\n",
       "    </tr>\n",
       "    <tr>\n",
       "      <th>4</th>\n",
       "      <td>2018-01-02 07:48:40</td>\n",
       "      <td>2018-01-02 07:48:40</td>\n",
       "      <td>2018-01-02 07:48:40</td>\n",
       "    </tr>\n",
       "  </tbody>\n",
       "</table>\n",
       "</div>"
      ],
      "text/plain": [
       "       time_ux_client            time_msg             time_ux\n",
       "0 2018-01-02 07:30:40 2018-01-02 07:37:10 2018-01-02 07:37:10\n",
       "1 2018-01-02 07:30:40 2018-01-02 07:37:10 2018-01-02 07:37:10\n",
       "2 2018-01-02 07:30:40 2018-01-02 07:37:10 2018-01-02 07:37:10\n",
       "3 2018-01-02 07:31:40 2018-01-02 07:38:55 2018-01-02 07:38:55\n",
       "4 2018-01-02 07:48:40 2018-01-02 07:48:40 2018-01-02 07:48:40"
      ]
     },
     "execution_count": 41,
     "metadata": {},
     "output_type": "execute_result"
    }
   ],
   "source": [
    "df[['time_ux_client','time_msg', 'time_ux']].head()"
   ]
  },
  {
   "cell_type": "code",
   "execution_count": 45,
   "metadata": {
    "ExecuteTime": {
     "end_time": "2018-11-04T15:01:51.595908Z",
     "start_time": "2018-11-04T15:01:51.585960Z"
    }
   },
   "outputs": [
    {
     "ename": "NameError",
     "evalue": "name 'time_ux' is not defined",
     "output_type": "error",
     "traceback": [
      "\u001b[1;31m---------------------------------------------------------------------------\u001b[0m",
      "\u001b[1;31mNameError\u001b[0m                                 Traceback (most recent call last)",
      "\u001b[1;32m<ipython-input-45-9d149c6b0339>\u001b[0m in \u001b[0;36m<module>\u001b[1;34m\u001b[0m\n\u001b[1;32m----> 1\u001b[1;33m \u001b[0mtime_ux\u001b[0m \u001b[1;33m-\u001b[0m \u001b[0mtime_msg\u001b[0m\u001b[1;33m\u001b[0m\u001b[0m\n\u001b[0m",
      "\u001b[1;31mNameError\u001b[0m: name 'time_ux' is not defined"
     ]
    }
   ],
   "source": [
    "df.time_ux - df.time_msg"
   ]
  },
  {
   "cell_type": "code",
   "execution_count": null,
   "metadata": {},
   "outputs": [],
   "source": []
  }
 ],
 "metadata": {
  "kernelspec": {
   "display_name": "Python 3",
   "language": "python",
   "name": "python3"
  },
  "language_info": {
   "codemirror_mode": {
    "name": "ipython",
    "version": 3
   },
   "file_extension": ".py",
   "mimetype": "text/x-python",
   "name": "python",
   "nbconvert_exporter": "python",
   "pygments_lexer": "ipython3",
   "version": "3.7.0"
  },
  "toc": {
   "base_numbering": 1,
   "nav_menu": {},
   "number_sections": true,
   "sideBar": true,
   "skip_h1_title": false,
   "title_cell": "Table of Contents",
   "title_sidebar": "Contents",
   "toc_cell": true,
   "toc_position": {},
   "toc_section_display": true,
   "toc_window_display": false
  },
  "varInspector": {
   "cols": {
    "lenName": 16,
    "lenType": 16,
    "lenVar": 40
   },
   "kernels_config": {
    "python": {
     "delete_cmd_postfix": "",
     "delete_cmd_prefix": "del ",
     "library": "var_list.py",
     "varRefreshCmd": "print(var_dic_list())"
    },
    "r": {
     "delete_cmd_postfix": ") ",
     "delete_cmd_prefix": "rm(",
     "library": "var_list.r",
     "varRefreshCmd": "cat(var_dic_list()) "
    }
   },
   "types_to_exclude": [
    "module",
    "function",
    "builtin_function_or_method",
    "instance",
    "_Feature"
   ],
   "window_display": false
  }
 },
 "nbformat": 4,
 "nbformat_minor": 2
}
